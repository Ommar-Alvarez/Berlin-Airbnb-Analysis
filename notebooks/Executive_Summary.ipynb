{
 "cells": [
  {
   "cell_type": "markdown",
   "metadata": {},
   "source": [
    "<h1 align='center'>An Analysis of Berlin's Airbnb Industry</h1>\n",
    "<h3 align='center'>By Ommar Alvarez</h3>"
   ]
  },
  {
   "cell_type": "markdown",
   "metadata": {},
   "source": [
    "# Dataset Overview\n",
    "***"
   ]
  },
  {
   "cell_type": "markdown",
   "metadata": {},
   "source": [
    "#### Descriptive Statistics\n",
    "The data set includes 6 CSV files pertaining to listings, reviews, and neighborhood data for the city of Berlin: _listings.csv_ and _listings_summary.csv_ detail information regarding the Airbnb listings data; calendar_summary.csv serves as a record of the daily-rate payment transactions of each listing; _neighbourhoods.csv_ is simply list of the neighbourhood and neighbourhood-groups; and _reviews.csv_ and _reviews_summary.csv_ detail information of the review data for listings. This report will narrow its scope to providing a descriptive analysis of data using strictly numerical analysis, hence reviews_summary.csv and listings_summary.csv will serve as the primary source of data, while the others are supplementary."
   ]
  },
  {
   "cell_type": "markdown",
   "metadata": {},
   "source": [
    "#### Berlin's Airbnb Background\n",
    "Berlin is the capital of Germany, and boasts more Airbnb room listings than that of Hamburg, Munich, and Frankfurt combined. It currently hosts more than 20,576 listings, half of which are fully sized homes. When the Berlin Airbnb ban took effect in 2016, Berlin’s Airbnb trends where stifled relative to the popularity explosion experienced by the European capitals of London and Amsterdam. The ban was then lifted as of May 1, 2018, leaving much growth potential for Belin’s Airbnb scene."
   ]
  },
  {
   "cell_type": "markdown",
   "metadata": {},
   "source": [
    "# Business Question\n",
    "***\n",
    "The benefactor of this analysis are the Airbnb hosts of Berlin. The purpose of this analysis is to help hosts set ideal prices for their listings using a supervised machine learning model and identifying key features of Airbnb listings that are key determinants of price. By developing a price prediction model, this analysis seeks to answer the question “what should Airbnb hosts in Berlin be setting their listing price as in order maximize their available resources.” Moreover, this analysis seeks to identify key resources and amenities would be worthwhile for hosts to include in their listings."
   ]
  },
  {
   "cell_type": "markdown",
   "metadata": {},
   "source": [
    "# Exploratory Data Analysis (EDA) & Correlation Analysis\n",
    "***\n",
    "Given the vast selection of potential features, extensive EDA was in order to identify faulty data and features that would capture variation in the price-prediction model. We can group variables into 4 groups of interest: amenities offered by the host, Airbnb characteristics, review scores of previous listing-guests, and geographical variables.  The following section details the cleaning and selection process of variables that would ultimately become learning points for the supervised machine learning model used to predict price. Note that EDA was an iterative process that was constantly revisited even after the model was built."
   ]
  },
  {
   "cell_type": "markdown",
   "metadata": {},
   "source": [
    "#### Amenities\n",
    "Amenities serves as a blanket term for over 60 furnishings, services, and general features of the Airbnb that a host would offer to a guest. It ranges from common amenities such wi-fi, the inclusion of a kitchen, and whether the host greets guests upon arrival, to less common ones such as whether breakfast will be provided to guests or if the Airbnb is furnished with children’s books and toys. Given the plentiful selection amenities, their selection was dependent on two factors: rarity, and intuition. Amenities that are extremely common, such as wi-fi, will likely have little influence in the price that the host will set, hence are omitted. Moreover, amenities that intuitively would not influence price, such as whether there is a carbon dioxide monitor on-premise, are also omitted. Ultimately, the amenities that seem to have explanatory power in terms of price are the following:\n",
    "<ol>\n",
    "    <li> Whether the Airbnb has a stove </li>\n",
    "    <li> Whether the Airbnb has a refrigerator</li>\n",
    "    <li> Whether the Airbnb has the cooking basics </li>\n",
    "    <li> Whether the Airbnb has a TV </li>\n",
    "    <li> Whether the Airbnb has a patio or balcony </li>\n",
    "    <li> Whether long-term stays are allowed </li>\n",
    "    <li> Whether smoking is allowed, and </li>\n",
    "    <li> Whether pets are allowed </li>\n",
    "</ol>"
   ]
  },
  {
   "cell_type": "markdown",
   "metadata": {},
   "source": [
    "#### Airbnb Characteristics\n",
    "Airbnb characteristics addresses that physical attributes of the listings that are either required to be details by the host in the listing description, or are additional fees separate from price. Again, the factors of rarity and intuition are used for factor selection. In the case of physical characteristics of the Airbnb, irrational characteristics (e.g. listing has 0 bedrooms, or listing price of $0) and uncommon characteristics (_e.g._ property-types listed as boats or barns) are dropped from the dataset due to irrelevance to the general masses. The physical attributes that seem to have explanatory power include the following:\n",
    "<ol>\n",
    "    <li> Type of property </li>\n",
    "    <li> Number of people the Airbnb can accommodate </li>\n",
    "    <li> Number of bathrooms </li>\n",
    "    <li> Number of bedrooms </li>\n",
    "    <li> Whether the Airbnb is instantly bookable, and </li>\n",
    "    <li> Type of bed </li>\n",
    "</ol>\n",
    "Additional fees include the following:\n",
    "<ol>\n",
    "    <li> Cleaning fees, and </li>\n",
    "    <li> Required security deposit </li>\n",
    "</ol>"
   ]
  },
  {
   "cell_type": "markdown",
   "metadata": {},
   "source": [
    "#### Review Scores\n",
    "Review scores represent guests’ evaluations on a variety of aspects related to their Airbnb experiences at a particular listing. Being that these evaluations are done after guests pay their lodging and are non-mandatory, hence there were several cases where these review scores were not completed. In order to preserve each review score variable’s distribution, missing scores are replaced with their mean respectively. The following review scores appear to exhibit explanatory power in regard to price:\n",
    "<ol>\n",
    "    <li> Accuracy review score </li>\n",
    "    <li> Check-in review score </li>\n",
    "    <li> Cleanliness review score </li>\n",
    "    <li> Communication review score </li>\n",
    "    <li> Location review score </li>\n",
    "    <li> Rating review score, and </li>\n",
    "    <li> Value review score </li>\n",
    "</ol>\n"
   ]
  },
  {
   "cell_type": "markdown",
   "metadata": {},
   "source": [
    "#### Geographical Variables\n",
    "Geographical variables represent the objective location of the Airbnb listing, as well as metadata in the form of geographical coordinates. The dataset provides 23 neighborhourhoods that an Airbnb listing may belong to. Seeing as there is often little socio-economic variation between neighbourhoods belonging to a single district, neighbourhoods have been grouped into one of the 12 administrative districts respectively in order to highlight any socio-economic nuances between districts that may affect listing price. Moreover, using longitudinal-latitudinal metadata provided by the dataset, the great circle distance between each Airbnb listing and 6 of the most popular Berlin landmarks and transportation epicenters is calculated then recorded as a feature in an attempt to capture the influence of Berlin’s tourism industry on Airbnb listing prices; more specifically, the great-circle distance variables are used to as controls proximity to these landmarks and transportation epicenter to help parse the out the price trends of the 12 districts. The following list represent the geographical variables that will be featured in the model:\n",
    "<ol>\n",
    "    <li> Neighbourhood district/borough </li>  \n",
    "    <li> Distance the center of Berlin </li>  \n",
    "    <li>Distance from Berlin Central Station </li>  \n",
    "    <li>Distance from Berlin Tegel Airport </li>  \n",
    "    <li>Distance from Museum Island </li>  \n",
    "    <li>Distance from the Reichstag building, and </li>  \n",
    "    <li>Distance from the Bradenburg Gate </li>  \n",
    "</ol>"
   ]
  },
  {
   "cell_type": "markdown",
   "metadata": {},
   "source": [
    "# Data Modeling & Analysis\n",
    "***\n",
    "Once key features were selected, 3 regression algorithms were applied to a unpartitioned, and partitioned versions of the dataset. The unpartitioned-version of the dataset is simply the data frame that resulted from cleaning and EDA processes. The partitioned version of the data set is the result of applying a unsupervised clustering technique that partitions the data into the optimal number of clusters with similar intra-cluster and distinct inter-cluster features. Each of those clusters then had the regression algorithms applied in order to product specialized models attuned to clusters’ price nuances. The following section details the model development methodology."
   ]
  },
  {
   "cell_type": "markdown",
   "metadata": {},
   "source": [
    "#### Regression\n",
    "Being that the price target variable is continuous, the 3 regression algorithms used find the optimal model were linear regression, lasso regression, and KNN regression. The default linear regression model served as the benchmark, while the lasso and KNN regression models were implemented in hopes of outperforming the benchmark model. Mean-squared error (MSE) and $R^2$ served as the performance metrics used for comparison between each model. The benchmark model (MSE = 860.46; $R^2$=0.55) ultimately outperformed the other two models even after hyperparameter tuning."
   ]
  },
  {
   "cell_type": "markdown",
   "metadata": {},
   "source": [
    "#### Clustering\n",
    "In order to determine whether specialized models can outperform the blanket models, a KMeans clustering algorithm was applied to the unpartitioned dataset in order to identify clusters that may provide a meaningful basis to create subsets of the data. To gage how well different numbers of clusters suited the data, a silhouette score metric was used to compare the degree of distinction between cluster members at varying cluster numbers. Ultimately, 2 clusters provided the highest silhouette score $(0.875)$, hence the same 3 regression algorithms were applied to both clusters respectively. Upon analyzing characteristics of the clusters’ centroids, it was intuitively apparent that the first cluster exhibited features that resemble an affordable Airbnb listing, while the second cluster exhibited features that appear to offer a more luxurious experience; these two clusters were aptly named the “budget-cluster” and “premium-cluster” respectively. Once again, the benchmark linear regression algorithm produced the best results for both clusters, but only the budget-cluster’s model $(MSE = 824.16; R^2=0.58)$ that outperformed the unclustered model. Due to a culmination of factors, including small cluster size, the premium-cluster’s model severely underperformed $(MSE = 3553.43; R^2=0.33)$ relative to the unclustered model."
   ]
  },
  {
   "cell_type": "markdown",
   "metadata": {},
   "source": [
    "# Conclusion\n",
    "***"
   ]
  },
  {
   "cell_type": "markdown",
   "metadata": {},
   "source": [
    "#### Model\t\n",
    "The model is the result of applying Scikit-learn’s linear regression algorithm on meticulously selected features following data cleaning and EDA. The parameter estimates for the unclustered model can be found in _Table 1_ ; though, only the parameters featured in _Table 2_ are statistically significant at the $\\alpha=0.05$ level of significance. Again, the final model captures about $55%$ of the variation in the data that explain pricing. "
   ]
  },
  {
   "cell_type": "markdown",
   "metadata": {},
   "source": [
    "#### Findings & Recommendations\n",
    "For Airbnb hosts seeking to maximize revenue through offering amenities, the top 3 courses of action they should consider in regard to amenities are (1) investing in the Airbnb’s list of cooking basics, (2) offering long-term stays, and (3) investing in a TV set. \n",
    "\n",
    "In regards to the features listed in the Airbnb characteristics section, the top 3 features that hosts should pay careful attention to when characterizing their listing are (1) the number of bathrooms and (2) bedrooms, and (3) the number of people that the Airbnb is able to accommodate.\n",
    "\n",
    "As for geographical variables, being located in the districts of Charlottenburg-Wilmersdorf, Mitte, and Pankow, Spandau, and Reinickendorf justify charging above-average daily-rates than other neighbourhoods in Berlin; though, but these findings are unfortunately statistically insignificant. What is statistically significant is that the districts of Treptow-Köpenick, Neukölln, Tempelhof-Schöneberg, Lichtenberg, Steglitz-Zehlendorf, and Friedrichshain-Kreuzberg all exhibit price trends that are below the average daily-rate of Belin Airbnbs. Hosts should take this finding to consideration if they hope to remain competitive.\n",
    "\n",
    "Although the budget-cluster and premium-cluster models collectively do not outperform the blanket model, the analysis of the clusters’ centroid do provide interesting insights. A great majority of the listings in Berlin fall into the budget-cluster, hence affordable Airbnbs appear to be the most competitive niche. As expected from the larger cluster, budget Airbnbs tend to receive more reviews per month and higher value review scores. Moreover, budget Airbnbs are more likely to offer amenities such as TVs and refrigerators and allowing smoking. Unsurprisingly, premium Airbnb are characterized by a having a high number of bathrooms and bedrooms, as well as being able to accommodate more guests than average listings. Premium listings also tend to feature high cleaning fees and security deposits that are apart from the listing price. These findings can serve as guidelines in case prospective Airbnb hosts hope to be a part of either of the two Airbnbs niches."
   ]
  },
  {
   "cell_type": "markdown",
   "metadata": {},
   "source": [
    "# Appendix"
   ]
  },
  {
   "cell_type": "markdown",
   "metadata": {},
   "source": [
    "_Table 1: All Parameter Coefficients_"
   ]
  },
  {
   "cell_type": "code",
   "execution_count": 3,
   "metadata": {},
   "outputs": [
    {
     "data": {
      "text/html": [
       "<img src=\"../../BerlinAirbnbAnalysis/img/table1.png\">"
      ],
      "text/plain": [
       "<IPython.core.display.HTML object>"
      ]
     },
     "metadata": {},
     "output_type": "display_data"
    }
   ],
   "source": [
    "from IPython.display import display, HTML\n",
    "display(HTML('''<img src=\"../../BerlinAirbnbAnalysis/img/table1.png\">'''))"
   ]
  },
  {
   "cell_type": "markdown",
   "metadata": {},
   "source": [
    "_Table 2: Statistically Significant Parameters $(\\alpha=0.05)$_"
   ]
  },
  {
   "cell_type": "code",
   "execution_count": 4,
   "metadata": {
    "scrolled": true
   },
   "outputs": [
    {
     "data": {
      "text/html": [
       "<img src=\"../../BerlinAirbnbAnalysis/img/table2.png\">"
      ],
      "text/plain": [
       "<IPython.core.display.HTML object>"
      ]
     },
     "metadata": {},
     "output_type": "display_data"
    }
   ],
   "source": [
    "display(HTML('''<img src=\"../../BerlinAirbnbAnalysis/img/table2.png\">'''))"
   ]
  }
 ],
 "metadata": {
  "kernelspec": {
   "display_name": "Python 3",
   "language": "python",
   "name": "python3"
  },
  "language_info": {
   "codemirror_mode": {
    "name": "ipython",
    "version": 3
   },
   "file_extension": ".py",
   "mimetype": "text/x-python",
   "name": "python",
   "nbconvert_exporter": "python",
   "pygments_lexer": "ipython3",
   "version": "3.7.3"
  }
 },
 "nbformat": 4,
 "nbformat_minor": 2
}
